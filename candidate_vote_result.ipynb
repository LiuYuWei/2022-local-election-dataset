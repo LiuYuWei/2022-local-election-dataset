{
 "cells": [
  {
   "cell_type": "code",
   "execution_count": 1,
   "metadata": {},
   "outputs": [
    {
     "name": "stdout",
     "output_type": "stream",
     "text": [
      "Requirement already satisfied: lxml in /opt/conda/lib/python3.7/site-packages (4.9.1)\n"
     ]
    }
   ],
   "source": [
    "!pip install lxml"
   ]
  },
  {
   "cell_type": "code",
   "execution_count": 2,
   "metadata": {},
   "outputs": [
    {
     "name": "stderr",
     "output_type": "stream",
     "text": [
      "/opt/conda/lib/python3.7/site-packages/requests/__init__.py:91: RequestsDependencyWarning: urllib3 (1.26.13) or chardet (3.0.4) doesn't match a supported version!\n",
      "  RequestsDependencyWarning)\n"
     ]
    }
   ],
   "source": [
    "import requests\n",
    "import pandas as pd"
   ]
  },
  {
   "cell_type": "markdown",
   "metadata": {},
   "source": [
    "## 直轄市（六都）"
   ]
  },
  {
   "cell_type": "code",
   "execution_count": 3,
   "metadata": {},
   "outputs": [
    {
     "name": "stdout",
     "output_type": "stream",
     "text": [
      "13\n",
      "39\n",
      "30\n",
      "30\n",
      "38\n",
      "14\n"
     ]
    }
   ],
   "source": [
    "total_dist = 100\n",
    "\n",
    "for city_number in range(63,69):\n",
    "    df_statistic = pd.DataFrame()\n",
    "\n",
    "    if total_dist > 9:\n",
    "        small_range = 9\n",
    "    else:\n",
    "        small_range = total_dist\n",
    "\n",
    "    for number in range(1,small_range):\n",
    "        df = pd.read_html('https://www.cec.gov.tw/zh-TW/TC/{}000000{}00000000.html'.format(city_number, number), encoding='utf-8')\n",
    "        area = df[0][1][0][14:17]\n",
    "        data = df[1]\n",
    "\n",
    "        if len(df_statistic.columns) == 0:\n",
    "            df_statistic['Name'] = df[1]['姓名']\n",
    "\n",
    "        df_statistic[area] = df[1]['得票數']\n",
    "\n",
    "    if total_dist >= 10:\n",
    "        for number in range(10, total_dist):\n",
    "            url = 'https://www.cec.gov.tw/zh-TW/TC/{}00000{}00000000.html'.format(city_number, number)\n",
    "            res = requests.get(url)\n",
    "            if res.status_code == 200:\n",
    "                df = pd.read_html(url, encoding='utf-8')\n",
    "                area = df[0][1][0][14:17]\n",
    "                data = df[1]\n",
    "\n",
    "                df_statistic[area] = df[1]['得票數']\n",
    "            else:\n",
    "                print(number)\n",
    "                break\n",
    "\n",
    "    df = pd.read_html('https://www.cec.gov.tw/en/TC/{}000000000000000.html'.format(city_number), encoding='utf-8')\n",
    "    df_statistic['total'] = df[1]['Votes']\n",
    "    \n",
    "    city_en = df[0][1][0].split(' ')[0]\n",
    "    df_statistic.to_csv(\"data/candidate_vote/capital/city_{}_2022_poll_statistics.csv\".format(city_en),index=False)\n"
   ]
  },
  {
   "cell_type": "markdown",
   "metadata": {},
   "source": [
    "## 其他縣市"
   ]
  },
  {
   "cell_type": "code",
   "execution_count": 4,
   "metadata": {},
   "outputs": [
    {
     "name": "stdout",
     "output_type": "stream",
     "text": [
      "7\n",
      "8\n",
      "4\n"
     ]
    }
   ],
   "source": [
    "for city_number in ['02','04','05','07','08','09','10','13','14','15','16','17','18']:\n",
    "    total_dist = 0\n",
    "    df_statistic = pd.DataFrame()\n",
    "\n",
    "    for number in range(1,9):\n",
    "        total_dist += 1\n",
    "        url = 'https://www.cec.gov.tw/zh-TW/TC/100{}000{}00000000.html'.format(city_number, number)\n",
    "        res = requests.get(url)\n",
    "        if res.status_code == 200:\n",
    "            df = pd.read_html(url, encoding='utf-8')\n",
    "            area = df[0][1][0][14:17]\n",
    "            data = df[1]\n",
    "\n",
    "            if len(df_statistic.columns) == 0:\n",
    "                df_statistic['Name'] = df[1]['姓名']\n",
    "\n",
    "            df_statistic[area] = df[1]['得票數']\n",
    "        else:\n",
    "            print(number)\n",
    "            break\n",
    "\n",
    "    if total_dist >= 10:\n",
    "        for number in range(10, 100):\n",
    "            url = 'https://www.cec.gov.tw/zh-TW/TC/100{}00{}00000000.html'.format(city_number, number)\n",
    "            res = requests.get(url)\n",
    "            if res.status_code == 200:\n",
    "                df = pd.read_html(url, encoding='utf-8')\n",
    "                area = df[0][1][0][14:17]\n",
    "                data = df[1]\n",
    "\n",
    "                df_statistic[area] = df[1]['得票數']\n",
    "            else:\n",
    "                print(number)\n",
    "                break\n",
    "    \n",
    "    url = 'https://www.cec.gov.tw/en/TC/100{}000000000000.html'.format(city_number)\n",
    "    df = pd.read_html(url, encoding='utf-8')\n",
    "    df_statistic['total'] = df[1]['Votes']\n",
    "    \n",
    "    city_en = df[0][1][0].split(' ')[0]\n",
    "    df_statistic.to_csv(\"data/candidate_vote/others/{}_2022_poll_statistics.csv\".format(city_en),index=False)\n"
   ]
  },
  {
   "cell_type": "code",
   "execution_count": 5,
   "metadata": {},
   "outputs": [
    {
     "name": "stdout",
     "output_type": "stream",
     "text": [
      "5\n",
      "7\n"
     ]
    }
   ],
   "source": [
    "for city_number in ['07','20']:\n",
    "    total_dist = 0\n",
    "    df_statistic = pd.DataFrame()\n",
    "\n",
    "    for number in range(1,9):\n",
    "        total_dist += 1\n",
    "        url = 'https://www.cec.gov.tw/zh-TW/TC/090{}000{}00000000.html'.format(city_number, number)\n",
    "        res = requests.get(url)\n",
    "        res.status_code\n",
    "        if res.status_code == 200:\n",
    "            df = pd.read_html(url, encoding='utf-8')\n",
    "            area = df[0][1][0][14:17]\n",
    "            data = df[1]\n",
    "\n",
    "            if len(df_statistic.columns) == 0:\n",
    "                df_statistic['Name'] = df[1]['姓名']\n",
    "\n",
    "            df_statistic[area] = df[1]['得票數']\n",
    "        else:\n",
    "            print(number)\n",
    "            break\n",
    "\n",
    "    if total_dist >= 10:\n",
    "        for number in range(10, 100):\n",
    "            url = 'https://www.cec.gov.tw/zh-TW/TC/100{}00{}00000000.html'.format(city_number, number)\n",
    "            res = requests.get(url)\n",
    "            if res.status_code == 200:\n",
    "                df = pd.read_html(url, encoding='utf-8')\n",
    "                area = df[0][1][0][14:17]\n",
    "                data = df[1]\n",
    "\n",
    "                df_statistic[area] = df[1]['得票數']\n",
    "            else:\n",
    "                print(number)\n",
    "                break\n",
    "    \n",
    "    url = 'https://www.cec.gov.tw/en/TC/090{}000000000000.html'.format(city_number)\n",
    "    df = pd.read_html(url, encoding='utf-8')\n",
    "    df_statistic['total'] = df[1]['Votes']\n",
    "    \n",
    "    city_en = df[0][1][0].split(' ')[0]\n",
    "    df_statistic.to_csv(\"data/candidate_vote/others/{}_2022_poll_statistics.csv\".format(city_en),index=False)\n"
   ]
  }
 ],
 "metadata": {
  "kernelspec": {
   "display_name": "Python 3.9.13 64-bit",
   "language": "python",
   "name": "python3"
  },
  "language_info": {
   "codemirror_mode": {
    "name": "ipython",
    "version": 3
   },
   "file_extension": ".py",
   "mimetype": "text/x-python",
   "name": "python",
   "nbconvert_exporter": "python",
   "pygments_lexer": "ipython3",
   "version": "3.9.13"
  },
  "vscode": {
   "interpreter": {
    "hash": "b0fa6594d8f4cbf19f97940f81e996739fb7646882a419484c72d19e05852a7e"
   }
  }
 },
 "nbformat": 4,
 "nbformat_minor": 4
}
