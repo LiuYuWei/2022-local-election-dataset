{
 "cells": [
  {
   "cell_type": "code",
   "execution_count": 1,
   "metadata": {},
   "outputs": [
    {
     "name": "stdout",
     "output_type": "stream",
     "text": [
      "Requirement already satisfied: lxml in /opt/conda/lib/python3.7/site-packages (4.9.1)\n"
     ]
    }
   ],
   "source": [
    "!pip install lxml"
   ]
  },
  {
   "cell_type": "code",
   "execution_count": 31,
   "metadata": {},
   "outputs": [],
   "source": [
    "import requests\n",
    "import pandas as pd\n",
    "import os"
   ]
  },
  {
   "cell_type": "markdown",
   "metadata": {},
   "source": [
    "## 直轄市（六都）"
   ]
  },
  {
   "cell_type": "code",
   "execution_count": 45,
   "metadata": {},
   "outputs": [
    {
     "name": "stdout",
     "output_type": "stream",
     "text": [
      "13\n",
      "39\n",
      "30\n",
      "30\n",
      "38\n",
      "14\n"
     ]
    }
   ],
   "source": [
    "for city_number in range(63,69):\n",
    "    total_dist = 0\n",
    "    \n",
    "    for number in range(0,10):\n",
    "        url = 'https://www.cec.gov.tw/en/SC/{}000000{}00000000.html'.format(city_number, number)\n",
    "        res = requests.get(url)\n",
    "        if res.status_code == 200:\n",
    "            total_dist += 1\n",
    "            df = pd.read_html(url, encoding='utf-8')\n",
    "            city_en = '-'.join(df[0][1][0].split(' ')[0:2]).lower()\n",
    "            area_en = df[0][1][0].split(' ')[6].lower()\n",
    "            \n",
    "            folder_path = \"data/election_outlines/capital/{}\".format(city_en)\n",
    "            if not os.path.isdir(folder_path):\n",
    "                os.makedirs(folder_path)\n",
    "\n",
    "            df[1].to_csv(\"data/election_outlines/capital/{}/{}_2022_poll_statistics.csv\".format(city_en, area_en),index=False)\n",
    "        else:\n",
    "            print(number)\n",
    "            break\n",
    "    \n",
    "    if total_dist == 10:\n",
    "        for number in range(10,100):\n",
    "            url = 'https://www.cec.gov.tw/en/SC/{}00000{}00000000.html'.format(city_number, number)\n",
    "            res = requests.get(url)\n",
    "            if res.status_code == 200:\n",
    "                df = pd.read_html(url, encoding='utf-8')\n",
    "                city_en = '-'.join(df[0][1][0].split(' ')[0:2]).lower()\n",
    "                area_en = df[0][1][0].split(' ')[6].lower()\n",
    "\n",
    "                folder_path = \"data/election_outlines/capital/{}\".format(city_en)\n",
    "                if not os.path.isdir(folder_path):\n",
    "                    os.makedirs(folder_path)\n",
    "\n",
    "                df[1].to_csv(\"data/election_outlines/capital/{}/{}_2022_poll_statistics.csv\".format(city_en, area_en),index=False)\n",
    "            else:\n",
    "                print(number)\n",
    "                break"
   ]
  },
  {
   "cell_type": "markdown",
   "metadata": {},
   "source": [
    "## 其他縣市"
   ]
  },
  {
   "cell_type": "code",
   "execution_count": 46,
   "metadata": {},
   "outputs": [
    {
     "name": "stdout",
     "output_type": "stream",
     "text": [
      "13\n",
      "14\n",
      "19\n",
      "27\n",
      "14\n",
      "21\n",
      "19\n",
      "34\n",
      "17\n",
      "14\n",
      "7\n",
      "8\n",
      "4\n"
     ]
    }
   ],
   "source": [
    "for city_number in ['02','04','05','07','08','09','10','13','14','15','16','17','18']:\n",
    "    total_dist = 0\n",
    "    \n",
    "    for number in range(0,10):\n",
    "        url = 'https://www.cec.gov.tw/en/SC/100{}000{}00000000.html'.format(city_number, number)\n",
    "        res = requests.get(url)\n",
    "        if res.status_code == 200:\n",
    "            total_dist += 1\n",
    "            df = pd.read_html(url, encoding='utf-8')\n",
    "            city_en = '-'.join(df[0][1][0].split(' ')[0:2]).lower()\n",
    "            area_en = df[0][1][0].split(' ')[6].lower()\n",
    "            \n",
    "            folder_path = \"data/election_outlines/others/{}\".format(city_en)\n",
    "            if not os.path.isdir(folder_path):\n",
    "                os.makedirs(folder_path)\n",
    "\n",
    "            df[1].to_csv(\"data/election_outlines/others/{}/{}_2022_poll_statistics.csv\".format(city_en, area_en),index=False)\n",
    "        else:\n",
    "            print(number)\n",
    "            break\n",
    "    \n",
    "    if total_dist == 10:\n",
    "        for number in range(10,100):\n",
    "            url = 'https://www.cec.gov.tw/en/SC/100{}00{}00000000.html'.format(city_number, number)\n",
    "            res = requests.get(url)\n",
    "            if res.status_code == 200:\n",
    "                df = pd.read_html(url, encoding='utf-8')\n",
    "                city_en = '-'.join(df[0][1][0].split(' ')[0:2]).lower()\n",
    "                area_en = df[0][1][0].split(' ')[6].lower()\n",
    "\n",
    "                folder_path = \"data/election_outlines/capital/{}\".format(city_en)\n",
    "                if not os.path.isdir(folder_path):\n",
    "                    os.makedirs(folder_path)\n",
    "\n",
    "                df[1].to_csv(\"data/election_outlines/others/{}/{}_2022_poll_statistics.csv\".format(city_en, area_en),index=False)\n",
    "            else:\n",
    "                print(number)\n",
    "                break"
   ]
  },
  {
   "cell_type": "code",
   "execution_count": 5,
   "metadata": {},
   "outputs": [
    {
     "name": "stdout",
     "output_type": "stream",
     "text": [
      "5\n",
      "7\n"
     ]
    }
   ],
   "source": [
    "for city_number in ['07','20']:\n",
    "    total_dist = 0\n",
    "    \n",
    "    for number in range(0,10):\n",
    "        url = 'https://www.cec.gov.tw/en/SC/090{}000{}00000000.html'.format(city_number, number)\n",
    "        res = requests.get(url)\n",
    "        if res.status_code == 200:\n",
    "            total_dist += 1\n",
    "            df = pd.read_html(url, encoding='utf-8')\n",
    "            city_en = '-'.join(df[0][1][0].split(' ')[0:2]).lower()\n",
    "            area_en = df[0][1][0].split(' ')[6].lower()\n",
    "            \n",
    "            folder_path = \"data/election_outlines/others/{}\".format(city_en)\n",
    "            if not os.path.isdir(folder_path):\n",
    "                os.makedirs(folder_path)\n",
    "\n",
    "            df[1].to_csv(\"data/election_outlines/others/{}/{}_2022_poll_statistics.csv\".format(city_en, area_en),index=False)\n",
    "        else:\n",
    "            print(number)\n",
    "            break\n",
    "    \n",
    "    if total_dist == 10:\n",
    "        for number in range(10,100):\n",
    "            url = 'https://www.cec.gov.tw/en/SC/090{}00{}00000000.html'.format(city_number, number)\n",
    "            res = requests.get(url)\n",
    "            if res.status_code == 200:\n",
    "                df = pd.read_html(url, encoding='utf-8')\n",
    "                city_en = '-'.join(df[0][1][0].split(' ')[0:2]).lower()\n",
    "                area_en = df[0][1][0].split(' ')[6].lower()\n",
    "\n",
    "                folder_path = \"data/election_outlines/capital/{}\".format(city_en)\n",
    "                if not os.path.isdir(folder_path):\n",
    "                    os.makedirs(folder_path)\n",
    "\n",
    "                df[1].to_csv(\"data/election_outlines/others/{}/{}_2022_poll_statistics.csv\".format(city_en, area_en),index=False)\n",
    "            else:\n",
    "                print(number)\n",
    "                break"
   ]
  }
 ],
 "metadata": {
  "kernelspec": {
   "display_name": "Python 3",
   "language": "python",
   "name": "python3"
  },
  "language_info": {
   "codemirror_mode": {
    "name": "ipython",
    "version": 3
   },
   "file_extension": ".py",
   "mimetype": "text/x-python",
   "name": "python",
   "nbconvert_exporter": "python",
   "pygments_lexer": "ipython3",
   "version": "3.7.10"
  }
 },
 "nbformat": 4,
 "nbformat_minor": 4
}
