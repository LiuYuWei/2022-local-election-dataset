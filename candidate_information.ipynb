{
 "cells": [
  {
   "cell_type": "code",
   "execution_count": 1,
   "metadata": {},
   "outputs": [
    {
     "name": "stdout",
     "output_type": "stream",
     "text": [
      "Requirement already satisfied: lxml in /opt/conda/lib/python3.7/site-packages (4.9.1)\n"
     ]
    }
   ],
   "source": [
    "!pip install lxml"
   ]
  },
  {
   "cell_type": "code",
   "execution_count": 2,
   "metadata": {},
   "outputs": [],
   "source": [
    "import requests\n",
    "import pandas as pd"
   ]
  },
  {
   "cell_type": "markdown",
   "metadata": {},
   "source": [
    "## 直轄市（六都）"
   ]
  },
  {
   "cell_type": "code",
   "execution_count": 7,
   "metadata": {},
   "outputs": [
    {
     "name": "stdout",
     "output_type": "stream",
     "text": [
      "https://www.cec.gov.tw/en/CC/63000000000000000.html\n",
      "https://www.cec.gov.tw/en/CC/64000000000000000.html\n",
      "https://www.cec.gov.tw/en/CC/65000000000000000.html\n",
      "https://www.cec.gov.tw/en/CC/66000000000000000.html\n",
      "https://www.cec.gov.tw/en/CC/67000000000000000.html\n",
      "https://www.cec.gov.tw/en/CC/68000000000000000.html\n"
     ]
    }
   ],
   "source": [
    "for city_number in range(63,69):\n",
    "    url = 'https://www.cec.gov.tw/en/CC/{}000000000000000.html'.format(city_number)\n",
    "    print(url)\n",
    "    df = pd.read_html(url, encoding='utf-8')\n",
    "\n",
    "    city_en = '-'.join(df[0][1][0].split(' ')[0:2]).lower()\n",
    "    df[1].to_csv(\"./data/candidate_information/{}.csv\".format(city_en), index=False)"
   ]
  },
  {
   "cell_type": "markdown",
   "metadata": {},
   "source": [
    "## 其他縣市"
   ]
  },
  {
   "cell_type": "code",
   "execution_count": 5,
   "metadata": {},
   "outputs": [
    {
     "name": "stdout",
     "output_type": "stream",
     "text": [
      "https://www.cec.gov.tw/en/CC/10002000000000000.html\n",
      "https://www.cec.gov.tw/en/CC/10004000000000000.html\n",
      "https://www.cec.gov.tw/en/CC/10005000000000000.html\n",
      "https://www.cec.gov.tw/en/CC/10007000000000000.html\n",
      "https://www.cec.gov.tw/en/CC/10008000000000000.html\n",
      "https://www.cec.gov.tw/en/CC/10009000000000000.html\n",
      "https://www.cec.gov.tw/en/CC/10010000000000000.html\n",
      "https://www.cec.gov.tw/en/CC/10013000000000000.html\n",
      "https://www.cec.gov.tw/en/CC/10014000000000000.html\n",
      "https://www.cec.gov.tw/en/CC/10015000000000000.html\n",
      "https://www.cec.gov.tw/en/CC/10016000000000000.html\n",
      "https://www.cec.gov.tw/en/CC/10017000000000000.html\n",
      "https://www.cec.gov.tw/en/CC/10018000000000000.html\n"
     ]
    }
   ],
   "source": [
    "for city_number in ['02','04','05','07','08','09','10','13','14','15','16','17','18']:\n",
    "    url = 'https://www.cec.gov.tw/en/CC/100{}000000000000.html'.format(city_number)\n",
    "    print(url)\n",
    "    df = pd.read_html(url, encoding='utf-8')\n",
    "\n",
    "    city_en = '-'.join(df[0][1][0].split(' ')[0:2]).lower()\n",
    "    df[1].to_csv(\"./data/candidate_information/{}.csv\".format(city_en), index=False)\n"
   ]
  },
  {
   "cell_type": "markdown",
   "metadata": {},
   "source": [
    "## 離島（金馬地區）"
   ]
  },
  {
   "cell_type": "code",
   "execution_count": 6,
   "metadata": {},
   "outputs": [
    {
     "name": "stdout",
     "output_type": "stream",
     "text": [
      "https://www.cec.gov.tw/en/CC/09007000000000000.html\n",
      "https://www.cec.gov.tw/en/CC/09020000000000000.html\n"
     ]
    }
   ],
   "source": [
    "for city_number in ['07','20']:\n",
    "    url = 'https://www.cec.gov.tw/en/CC/090{}000000000000.html'.format(city_number)\n",
    "    print(url)\n",
    "    df = pd.read_html(url, encoding='utf-8')\n",
    "\n",
    "    city_en = '-'.join(df[0][1][0].split(' ')[0:2]).lower()\n",
    "    df[1].to_csv(\"./data/candidate_information/{}.csv\".format(city_en), index=False)\n"
   ]
  }
 ],
 "metadata": {
  "kernelspec": {
   "display_name": "Python 3",
   "language": "python",
   "name": "python3"
  },
  "language_info": {
   "codemirror_mode": {
    "name": "ipython",
    "version": 3
   },
   "file_extension": ".py",
   "mimetype": "text/x-python",
   "name": "python",
   "nbconvert_exporter": "python",
   "pygments_lexer": "ipython3",
   "version": "3.7.10"
  }
 },
 "nbformat": 4,
 "nbformat_minor": 4
}
